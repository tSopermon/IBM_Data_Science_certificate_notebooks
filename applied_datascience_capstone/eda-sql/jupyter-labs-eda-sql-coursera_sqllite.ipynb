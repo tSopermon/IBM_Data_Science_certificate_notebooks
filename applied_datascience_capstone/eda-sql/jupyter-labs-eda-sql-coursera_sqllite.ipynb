{
 "cells": [
  {
   "cell_type": "markdown",
   "id": "c6dfa2b6-e9c5-49eb-8d07-65339417ed36",
   "metadata": {},
   "source": [
    "<p style=\"text-align:center\">\n",
    "    <a href=\"https://skills.network\" target=\"_blank\">\n",
    "    <img src=\"https://cf-courses-data.s3.us.cloud-object-storage.appdomain.cloud/assets/logos/SN_web_lightmode.png\" width=\"200\" alt=\"Skills Network Logo\">\n",
    "    </a>\n",
    "</p>\n",
    "\n",
    "<h1 align=center><font size = 5>Assignment: SQL Notebook for Peer Assignment</font></h1>\n",
    "\n",
    "Estimated time needed: **60** minutes.\n",
    "\n",
    "## Introduction\n",
    "Using this Python notebook you will:\n",
    "\n",
    "1.  Understand the Spacex DataSet\n",
    "2.  Load the dataset  into the corresponding table in a Db2 database\n",
    "3.  Execute SQL queries to answer assignment questions \n"
   ]
  },
  {
   "cell_type": "markdown",
   "id": "b34a452f-a2d6-45cd-9bac-2993d6bb9e6b",
   "metadata": {},
   "source": [
    "## Overview of the DataSet\n",
    "\n",
    "SpaceX has gained worldwide attention for a series of historic milestones. \n",
    "\n",
    "It is the only private company ever to return a spacecraft from low-earth orbit, which it first accomplished in December 2010.\n",
    "SpaceX advertises Falcon 9 rocket launches on its website with a cost of 62 million dollars wheras other providers cost upward of 165 million dollars each, much of the savings is because Space X can reuse the first stage. \n",
    "\n",
    "\n",
    "Therefore if we can determine if the first stage will land, we can determine the cost of a launch. \n",
    "\n",
    "This information can be used if an alternate company wants to bid against SpaceX for a rocket launch.\n",
    "\n",
    "This dataset includes a record for each payload carried during a SpaceX mission into outer space.\n"
   ]
  },
  {
   "cell_type": "markdown",
   "id": "dd289c46-2a50-47d8-86c5-2d0e7f7f38f4",
   "metadata": {},
   "source": [
    "### Download the datasets\n",
    "\n",
    "This assignment requires you to load the spacex dataset.\n",
    "\n",
    "In many cases the dataset to be analyzed is available as a .CSV (comma separated values) file, perhaps on the internet. Click on the link below to download and save the dataset (.CSV file):\n",
    "\n",
    " <a href=\"https://cf-courses-data.s3.us.cloud-object-storage.appdomain.cloud/IBM-DS0321EN-SkillsNetwork/labs/module_2/data/Spacex.csv\" target=\"_blank\">Spacex DataSet</a>\n",
    "\n"
   ]
  },
  {
   "cell_type": "code",
   "execution_count": null,
   "id": "5ba83a1f-49bc-495e-8bfb-6911b4c19d2d",
   "metadata": {},
   "outputs": [
    {
     "name": "stdout",
     "output_type": "stream",
     "text": [
      "Defaulting to user installation because normal site-packages is not writeable\n",
      "Collecting sqlalchemy==1.3.9\n",
      "  Downloading SQLAlchemy-1.3.9.tar.gz (6.0 MB)\n",
      "\u001b[2K     \u001b[90m━━━━━━━━━━━━━━━━━━━━━━━━━━━━━━━━━━━━━━━━\u001b[0m \u001b[32m6.0/6.0 MB\u001b[0m \u001b[31m8.5 MB/s\u001b[0m eta \u001b[36m0:00:00\u001b[0m00:01\u001b[0m00:01\u001b[0m\n",
      "\u001b[?25h  Preparing metadata (setup.py) ... \u001b[?25ldone\n",
      "\u001b[?25hBuilding wheels for collected packages: sqlalchemy\n",
      "  Building wheel for sqlalchemy (setup.py) ... \u001b[?25ldone\n",
      "\u001b[?25h  Created wheel for sqlalchemy: filename=SQLAlchemy-1.3.9-cp311-cp311-linux_x86_64.whl size=1154692 sha256=9b414218f8959166e7e043eec0609db9f5ebc206f8c30bad19ebd67d1065a116\n",
      "  Stored in directory: /home/tsopermon/.cache/pip/wheels/3a/7c/1e/12404784a68083eb969f877a1808a1847bab897684b56ddc55\n",
      "Successfully built sqlalchemy\n",
      "Installing collected packages: sqlalchemy\n",
      "Successfully installed sqlalchemy-1.3.9\n",
      "Note: you may need to restart the kernel to use updated packages.\n"
     ]
    }
   ],
   "source": [
    "# pip install sqlalchemy==1.3.9\n"
   ]
  },
  {
   "cell_type": "markdown",
   "id": "c9da785d-df95-4616-8707-cc1b11b29a92",
   "metadata": {},
   "source": [
    "### Connect to the database\n",
    "\n",
    "Let us first load the SQL extension and establish a connection with the database\n"
   ]
  },
  {
   "cell_type": "code",
   "execution_count": null,
   "id": "2d848f02-aa97-44e8-9113-7597259bcd16",
   "metadata": {},
   "outputs": [
    {
     "name": "stdout",
     "output_type": "stream",
     "text": [
      "Defaulting to user installation because normal site-packages is not writeable\n",
      "Collecting ipython-sql\n",
      "  Downloading ipython_sql-0.5.0-py3-none-any.whl (20 kB)\n",
      "Requirement already satisfied: six in /usr/lib/python3/dist-packages (from ipython-sql) (1.16.0)\n",
      "Collecting prettytable\n",
      "  Downloading prettytable-3.12.0-py3-none-any.whl (31 kB)\n",
      "Collecting sqlparse\n",
      "  Downloading sqlparse-0.5.1-py3-none-any.whl (44 kB)\n",
      "\u001b[2K     \u001b[90m━━━━━━━━━━━━━━━━━━━━━━━━━━━━━━━━━━━━━━━━\u001b[0m \u001b[32m44.2/44.2 KB\u001b[0m \u001b[31m1.7 MB/s\u001b[0m eta \u001b[36m0:00:00\u001b[0m\n",
      "\u001b[?25hCollecting sqlalchemy>=2.0\n",
      "  Downloading SQLAlchemy-2.0.36-cp311-cp311-manylinux_2_17_x86_64.manylinux2014_x86_64.whl (3.2 MB)\n",
      "\u001b[2K     \u001b[90m━━━━━━━━━━━━━━━━━━━━━━━━━━━━━━━━━━━━━━━━\u001b[0m \u001b[32m3.2/3.2 MB\u001b[0m \u001b[31m7.0 MB/s\u001b[0m eta \u001b[36m0:00:00\u001b[0m00:01\u001b[0m00:01\u001b[0m\n",
      "\u001b[?25hRequirement already satisfied: ipython in /home/tsopermon/.local/lib/python3.11/site-packages (from ipython-sql) (8.19.0)\n",
      "Requirement already satisfied: ipython-genutils in /usr/lib/python3/dist-packages (from ipython-sql) (0.2.0)\n",
      "Collecting greenlet!=0.4.17\n",
      "  Downloading greenlet-3.1.1-cp311-cp311-manylinux_2_24_x86_64.manylinux_2_28_x86_64.whl (602 kB)\n",
      "\u001b[2K     \u001b[90m━━━━━━━━━━━━━━━━━━━━━━━━━━━━━━━━━━━━━━━\u001b[0m \u001b[32m602.4/602.4 KB\u001b[0m \u001b[31m8.3 MB/s\u001b[0m eta \u001b[36m0:00:00\u001b[0m00:01\u001b[0m00:01\u001b[0m\n",
      "\u001b[?25hCollecting typing-extensions>=4.6.0\n",
      "  Using cached typing_extensions-4.12.2-py3-none-any.whl (37 kB)\n",
      "Requirement already satisfied: pexpect>4.3 in /home/tsopermon/.local/lib/python3.11/site-packages (from ipython->ipython-sql) (4.9.0)\n",
      "Requirement already satisfied: traitlets>=5 in /home/tsopermon/.local/lib/python3.11/site-packages (from ipython->ipython-sql) (5.14.0)\n",
      "Requirement already satisfied: jedi>=0.16 in /home/tsopermon/.local/lib/python3.11/site-packages (from ipython->ipython-sql) (0.19.1)\n",
      "Requirement already satisfied: stack-data in /home/tsopermon/.local/lib/python3.11/site-packages (from ipython->ipython-sql) (0.6.3)\n",
      "Requirement already satisfied: pygments>=2.4.0 in /home/tsopermon/.local/lib/python3.11/site-packages (from ipython->ipython-sql) (2.17.2)\n",
      "Requirement already satisfied: prompt-toolkit<3.1.0,>=3.0.41 in /home/tsopermon/.local/lib/python3.11/site-packages (from ipython->ipython-sql) (3.0.43)\n",
      "Requirement already satisfied: decorator in /home/tsopermon/.local/lib/python3.11/site-packages (from ipython->ipython-sql) (5.1.1)\n",
      "Requirement already satisfied: matplotlib-inline in /home/tsopermon/.local/lib/python3.11/site-packages (from ipython->ipython-sql) (0.1.6)\n",
      "Requirement already satisfied: wcwidth in /home/tsopermon/.local/lib/python3.11/site-packages (from prettytable->ipython-sql) (0.2.12)\n",
      "Requirement already satisfied: parso<0.9.0,>=0.8.3 in /home/tsopermon/.local/lib/python3.11/site-packages (from jedi>=0.16->ipython->ipython-sql) (0.8.3)\n",
      "Requirement already satisfied: ptyprocess>=0.5 in /home/tsopermon/.local/lib/python3.11/site-packages (from pexpect>4.3->ipython->ipython-sql) (0.7.0)\n",
      "Requirement already satisfied: executing>=1.2.0 in /home/tsopermon/.local/lib/python3.11/site-packages (from stack-data->ipython->ipython-sql) (2.0.1)\n",
      "Requirement already satisfied: pure-eval in /home/tsopermon/.local/lib/python3.11/site-packages (from stack-data->ipython->ipython-sql) (0.2.2)\n",
      "Requirement already satisfied: asttokens>=2.1.0 in /home/tsopermon/.local/lib/python3.11/site-packages (from stack-data->ipython->ipython-sql) (2.4.1)\n",
      "Installing collected packages: typing-extensions, sqlparse, prettytable, greenlet, sqlalchemy, ipython-sql\n",
      "  Attempting uninstall: sqlalchemy\n",
      "    Found existing installation: SQLAlchemy 1.3.9\n",
      "    Uninstalling SQLAlchemy-1.3.9:\n",
      "      Successfully uninstalled SQLAlchemy-1.3.9\n",
      "Successfully installed greenlet-3.1.1 ipython-sql-0.5.0 prettytable-3.12.0 sqlalchemy-2.0.36 sqlparse-0.5.1 typing-extensions-4.12.2\n",
      "Note: you may need to restart the kernel to use updated packages.\n"
     ]
    }
   ],
   "source": [
    "# pip install ipython-sql"
   ]
  },
  {
   "cell_type": "code",
   "execution_count": 3,
   "id": "221a5769-206d-4dfe-934f-1367e75c8fc5",
   "metadata": {},
   "outputs": [],
   "source": [
    "%load_ext sql"
   ]
  },
  {
   "cell_type": "code",
   "execution_count": 4,
   "id": "b84676a5-96ff-4a65-9e46-4ebeaf79e02a",
   "metadata": {},
   "outputs": [],
   "source": [
    "import csv, sqlite3\n",
    "\n",
    "con = sqlite3.connect(\"my_data1.db\")\n",
    "cur = con.cursor()"
   ]
  },
  {
   "cell_type": "code",
   "execution_count": 5,
   "id": "a869cc09-7e7a-4164-9df9-058b5a4f4501",
   "metadata": {},
   "outputs": [],
   "source": [
    "# !pip install -q pandas"
   ]
  },
  {
   "cell_type": "code",
   "execution_count": 6,
   "id": "47703a07-22bb-451c-aa9d-7da39dea6821",
   "metadata": {},
   "outputs": [],
   "source": [
    "%sql sqlite:///my_data1.db"
   ]
  },
  {
   "cell_type": "code",
   "execution_count": 7,
   "id": "45abbf9a-9efd-4651-b032-30e4d2e6bdac",
   "metadata": {},
   "outputs": [
    {
     "data": {
      "text/plain": [
       "101"
      ]
     },
     "execution_count": 7,
     "metadata": {},
     "output_type": "execute_result"
    }
   ],
   "source": [
    "import pandas as pd\n",
    "df = pd.read_csv(\"https://cf-courses-data.s3.us.cloud-object-storage.appdomain.cloud/IBM-DS0321EN-SkillsNetwork/labs/module_2/data/Spacex.csv\")\n",
    "df.to_sql(\"SPACEXTBL\", con, if_exists='replace', index=False,method=\"multi\")"
   ]
  },
  {
   "cell_type": "markdown",
   "id": "230b8ff8-57c3-4ce7-aa22-11ce1044e849",
   "metadata": {},
   "source": [
    "**Note:This below code is added to remove blank rows from table**\n"
   ]
  },
  {
   "cell_type": "code",
   "execution_count": 8,
   "id": "184e64ba-ba31-4abd-9267-36e8c9edc165",
   "metadata": {},
   "outputs": [
    {
     "name": "stdout",
     "output_type": "stream",
     "text": [
      " * sqlite:///my_data1.db\n",
      "Done.\n"
     ]
    },
    {
     "data": {
      "text/plain": [
       "[]"
      ]
     },
     "execution_count": 8,
     "metadata": {},
     "output_type": "execute_result"
    }
   ],
   "source": [
    "#DROP THE TABLE IF EXISTS\n",
    "\n",
    "%sql DROP TABLE IF EXISTS SPACEXTABLE;"
   ]
  },
  {
   "cell_type": "code",
   "execution_count": 9,
   "id": "b5fb6b50-cb82-4378-966a-bac5f7ec18b4",
   "metadata": {},
   "outputs": [
    {
     "name": "stdout",
     "output_type": "stream",
     "text": [
      " * sqlite:///my_data1.db\n",
      "Done.\n"
     ]
    },
    {
     "data": {
      "text/plain": [
       "[]"
      ]
     },
     "execution_count": 9,
     "metadata": {},
     "output_type": "execute_result"
    }
   ],
   "source": [
    "%sql create table SPACEXTABLE as select * from SPACEXTBL where Date is not null"
   ]
  },
  {
   "cell_type": "markdown",
   "id": "d7430563-360f-48b7-8606-8dab70eecc4e",
   "metadata": {},
   "source": [
    "## Tasks\n",
    "\n",
    "Now write and execute SQL queries to solve the assignment tasks.\n",
    "\n",
    "**Note: If the column names are in mixed case enclose it in double quotes\n",
    "   For Example \"Landing_Outcome\"**\n",
    "\n",
    "### Task 1\n",
    "\n",
    "\n",
    "\n",
    "\n",
    "##### Display the names of the unique launch sites  in the space mission\n"
   ]
  },
  {
   "cell_type": "code",
   "execution_count": 10,
   "id": "3ed5b96b-08c7-4716-8079-a2673cf291e6",
   "metadata": {},
   "outputs": [],
   "source": [
    "%config SqlMagic.style = 'DEFAULT'"
   ]
  },
  {
   "cell_type": "code",
   "execution_count": 11,
   "metadata": {},
   "outputs": [],
   "source": [
    "%config SqlMagic.autopandas = True"
   ]
  },
  {
   "cell_type": "code",
   "execution_count": 12,
   "metadata": {},
   "outputs": [],
   "source": [
    "# pip install -U prettytable"
   ]
  },
  {
   "cell_type": "code",
   "execution_count": 125,
   "metadata": {},
   "outputs": [
    {
     "name": "stdout",
     "output_type": "stream",
     "text": [
      "CCAFS LC-40\n",
      "VAFB SLC-4E\n",
      "KSC LC-39A\n",
      "CCAFS SLC-40\n"
     ]
    }
   ],
   "source": [
    "cur.execute('SELECT DISTINCT \"Launch_site\" FROM SPACEXTABLE')\n",
    "# Fetch and display results\n",
    "results = cur.fetchall()\n",
    "for row in results:\n",
    "    print(row[0])\n",
    "\n"
   ]
  },
  {
   "cell_type": "markdown",
   "id": "8ec11181-8d60-4e96-a894-c43991d3d3de",
   "metadata": {},
   "source": [
    "\n",
    "### Task 2\n",
    "\n",
    "\n",
    "#####  Display 5 records where launch sites begin with the string 'CCA' \n"
   ]
  },
  {
   "cell_type": "code",
   "execution_count": 16,
   "id": "9ed02f84-94a9-4473-88e0-d22cf562b5a7",
   "metadata": {},
   "outputs": [
    {
     "name": "stdout",
     "output_type": "stream",
     "text": [
      "('2010-06-04', '18:45:00', 'F9 v1.0  B0003', 'CCAFS LC-40', 'Dragon Spacecraft Qualification Unit', 0, 'LEO', 'SpaceX', 'Success', 'Failure (parachute)')\n",
      "('2010-12-08', '15:43:00', 'F9 v1.0  B0004', 'CCAFS LC-40', 'Dragon demo flight C1, two CubeSats, barrel of Brouere cheese', 0, 'LEO (ISS)', 'NASA (COTS) NRO', 'Success', 'Failure (parachute)')\n",
      "('2012-05-22', '7:44:00', 'F9 v1.0  B0005', 'CCAFS LC-40', 'Dragon demo flight C2', 525, 'LEO (ISS)', 'NASA (COTS)', 'Success', 'No attempt')\n",
      "('2012-10-08', '0:35:00', 'F9 v1.0  B0006', 'CCAFS LC-40', 'SpaceX CRS-1', 500, 'LEO (ISS)', 'NASA (CRS)', 'Success', 'No attempt')\n",
      "('2013-03-01', '15:10:00', 'F9 v1.0  B0007', 'CCAFS LC-40', 'SpaceX CRS-2', 677, 'LEO (ISS)', 'NASA (CRS)', 'Success', 'No attempt')\n"
     ]
    }
   ],
   "source": [
    "cur.execute(\"SELECT * FROM SPACEXTABLE WHERE Launch_site LIKE 'CCA%' LIMIT 5\" )\n",
    "results = cur.fetchall()\n",
    "for row in results:\n",
    "    print(row) "
   ]
  },
  {
   "cell_type": "markdown",
   "id": "ec088752-758d-4f13-a2c3-578dfdb6dc2a",
   "metadata": {},
   "source": [
    "### Task 3\n",
    "\n",
    "\n",
    "\n",
    "\n",
    "##### Display the total payload mass carried by boosters launched by NASA (CRS)\n"
   ]
  },
  {
   "cell_type": "code",
   "execution_count": 21,
   "id": "b8958ac2-26f8-4825-a35a-984dcd73fd7b",
   "metadata": {},
   "outputs": [
    {
     "name": "stdout",
     "output_type": "stream",
     "text": [
      "45596\n"
     ]
    }
   ],
   "source": [
    "cur.execute(\"SELECT SUM(PAYLOAD_MASS__KG_) FROM SPACEXTABLE WHERE Customer LIKE 'NASA (CRS)'\")\n",
    "results = cur.fetchall()\n",
    "for row in results:\n",
    "    print(row[0]) "
   ]
  },
  {
   "cell_type": "markdown",
   "id": "3239d9db-a8aa-4219-9039-a3bb8ca86994",
   "metadata": {},
   "source": [
    "### Task 4\n",
    "\n",
    "\n",
    "\n",
    "\n",
    "##### Display average payload mass carried by booster version F9 v1.1\n"
   ]
  },
  {
   "cell_type": "code",
   "execution_count": 23,
   "id": "12542d86-6940-4ddf-a952-937a6ad11026",
   "metadata": {},
   "outputs": [
    {
     "name": "stdout",
     "output_type": "stream",
     "text": [
      "2928.4\n"
     ]
    }
   ],
   "source": [
    "cur.execute(\"SELECT AVG(PAYLOAD_MASS__KG_) FROM SPACEXTABLE WHERE Booster_Version LIKE 'F9 v1.1'\")\n",
    "results = cur.fetchall()\n",
    "for row in results:\n",
    "    print(row[0]) "
   ]
  },
  {
   "cell_type": "markdown",
   "id": "5dba8f8d-5836-47ae-b5af-08d9a1b16474",
   "metadata": {},
   "source": [
    "### Task 5\n",
    "\n",
    "##### List the date when the first succesful landing outcome in ground pad was acheived.\n",
    "\n",
    "\n",
    "_Hint:Use min function_ \n"
   ]
  },
  {
   "cell_type": "code",
   "execution_count": 32,
   "id": "0675bf89-5269-44a9-b252-3d8ac46efa49",
   "metadata": {},
   "outputs": [
    {
     "name": "stdout",
     "output_type": "stream",
     "text": [
      "2015-12-22\n"
     ]
    }
   ],
   "source": [
    "cur.execute(\"SELECT DATE FROM SPACEXTABLE WHERE Landing_Outcome LIKE 'Success (ground pad)' ORDER BY DATE ASC LIMIT 1\")\n",
    "results = cur.fetchall()\n",
    "for row in results:\n",
    "    print(row[0]) "
   ]
  },
  {
   "cell_type": "markdown",
   "id": "34be04be-b207-475f-81f1-d75ee88b2c32",
   "metadata": {},
   "source": [
    "### Task 6\n",
    "\n",
    "##### List the names of the boosters which have success in drone ship and have payload mass greater than 4000 but less than 6000\n"
   ]
  },
  {
   "cell_type": "code",
   "execution_count": 41,
   "id": "4b8561e5-ea30-44ca-be1a-50ce84fb708c",
   "metadata": {},
   "outputs": [
    {
     "name": "stdout",
     "output_type": "stream",
     "text": [
      "F9 FT B1022\n",
      "F9 FT B1026\n",
      "F9 FT  B1021.2\n",
      "F9 FT  B1031.2\n"
     ]
    }
   ],
   "source": [
    "cur.execute(\"SELECT DISTINCT Booster_Version FROM SPACEXTABLE WHERE (Landing_Outcome LIKE 'Success (drone ship)' AND PAYLOAD_MASS__KG_ BETWEEN 4000 AND 6000)\")\n",
    "results = cur.fetchall()\n",
    "for row in results:\n",
    "    print(row[0]) "
   ]
  },
  {
   "cell_type": "markdown",
   "id": "2d69ae1c-d4cd-45fc-aa05-ed8f475e068f",
   "metadata": {},
   "source": [
    "### Task 7\n",
    "\n",
    "\n",
    "\n",
    "\n",
    "##### List the total number of successful and failure mission outcomes\n"
   ]
  },
  {
   "cell_type": "code",
   "execution_count": 67,
   "id": "5811b71c-578a-4b7b-92d4-a0611164ee04",
   "metadata": {},
   "outputs": [
    {
     "name": "stdout",
     "output_type": "stream",
     "text": [
      "('Failure (in flight)', 1)\n",
      "('Success', 98)\n",
      "('Success ', 1)\n",
      "('Success (payload status unclear)', 1)\n"
     ]
    }
   ],
   "source": [
    "cur.execute(\"SELECT Mission_Outcome, COUNT(Mission_Outcome) FROM SPACEXTABLE GROUP BY Mission_Outcome\")\n",
    "results = cur.fetchall()\n",
    "for row in results:\n",
    "    print(row) "
   ]
  },
  {
   "cell_type": "markdown",
   "id": "243df392-b791-4967-a8af-a2895dc8942b",
   "metadata": {},
   "source": [
    "### Task 8\n",
    "\n",
    "\n",
    "\n",
    "##### List the   names of the booster_versions which have carried the maximum payload mass. Use a subquery\n"
   ]
  },
  {
   "cell_type": "code",
   "execution_count": 72,
   "id": "562ac9e1-6409-44d2-84c1-30380abe699c",
   "metadata": {},
   "outputs": [
    {
     "name": "stdout",
     "output_type": "stream",
     "text": [
      "('F9 B5 B1048.4',)\n",
      "('F9 B5 B1049.4',)\n",
      "('F9 B5 B1051.3',)\n",
      "('F9 B5 B1056.4',)\n",
      "('F9 B5 B1048.5',)\n",
      "('F9 B5 B1051.4',)\n",
      "('F9 B5 B1049.5',)\n",
      "('F9 B5 B1060.2 ',)\n",
      "('F9 B5 B1058.3 ',)\n",
      "('F9 B5 B1051.6',)\n",
      "('F9 B5 B1060.3',)\n",
      "('F9 B5 B1049.7 ',)\n"
     ]
    }
   ],
   "source": [
    "cur.execute(\"SELECT DISTINCT Booster_Version FROM SPACEXTABLE WHERE PAYLOAD_MASS__KG_ = (SELECT MAX(PAYLOAD_MASS__KG_) FROM SPACEXTABLE)\")\n",
    "results = cur.fetchall()\n",
    "for row in results:\n",
    "    print(row) "
   ]
  },
  {
   "cell_type": "markdown",
   "id": "cbb7b4f9-48d8-4094-bc8a-525cba71ffde",
   "metadata": {},
   "source": [
    "### Task 9\n",
    "\n",
    "\n",
    "##### List the records which will display the month names, failure landing_outcomes in drone ship ,booster versions, launch_site for the months in year 2015.\n",
    "\n",
    "**Note: SQLLite does not support monthnames. So you need to use  substr(Date, 6,2) as month to get the months and substr(Date,0,5)='2015' for year.**\n"
   ]
  },
  {
   "cell_type": "code",
   "execution_count": 117,
   "metadata": {},
   "outputs": [
    {
     "name": "stdout",
     "output_type": "stream",
     "text": [
      "('January', 'Failure (drone ship)', 'F9 v1.1 B1012', 'CCAFS LC-40')\n",
      "('April', 'Failure (drone ship)', 'F9 v1.1 B1015', 'CCAFS LC-40')\n"
     ]
    }
   ],
   "source": [
    "cur.execute(\"\"\"\n",
    "    SELECT \n",
    "        CASE strftime('%m', DATE)\n",
    "            WHEN '01' THEN 'January'\n",
    "            WHEN '02' THEN 'February'\n",
    "            WHEN '03' THEN 'March'\n",
    "            WHEN '04' THEN 'April'\n",
    "            WHEN '05' THEN 'May'\n",
    "            WHEN '06' THEN 'June'\n",
    "            WHEN '07' THEN 'July'\n",
    "            WHEN '08' THEN 'August'\n",
    "            WHEN '09' THEN 'September'\n",
    "            WHEN '10' THEN 'October'\n",
    "            WHEN '11' THEN 'November'\n",
    "            WHEN '12' THEN 'December'\n",
    "        END AS month_name,\n",
    "        Landing_Outcome,\n",
    "        Booster_Version,\n",
    "        Launch_site\n",
    "    FROM SPACEXTABLE\n",
    "    WHERE \n",
    "        Landing_Outcome = 'Failure (drone ship)' AND \n",
    "        strftime('%Y', DATE) = '2015'\n",
    "\"\"\")\n",
    "results = cur.fetchall()\n",
    "for row in results:\n",
    "    print(row) "
   ]
  },
  {
   "cell_type": "code",
   "execution_count": 118,
   "id": "6f3c1659-a135-4511-8539-a96b02b332af",
   "metadata": {},
   "outputs": [
    {
     "name": "stdout",
     "output_type": "stream",
     "text": [
      "('01', 'Failure (drone ship)', 'F9 v1.1 B1012', 'CCAFS LC-40')\n",
      "('04', 'Failure (drone ship)', 'F9 v1.1 B1015', 'CCAFS LC-40')\n"
     ]
    }
   ],
   "source": [
    "cur.execute(\"SELECT strftime('%m', DATE) AS month, Landing_Outcome, Booster_Version, Launch_site FROM SPACEXTABLE WHERE Landing_Outcome LIKE 'Failure (drone ship)' AND strftime('%Y', DATE) = '2015'\")\n",
    "results = cur.fetchall()\n",
    "for row in results:\n",
    "    print(row) "
   ]
  },
  {
   "cell_type": "markdown",
   "id": "96c39afb-d88e-49eb-a86d-0459fb06ad6a",
   "metadata": {},
   "source": [
    "### Task 10\n",
    "\n",
    "\n",
    "\n",
    "\n",
    "##### Rank the count of landing outcomes (such as Failure (drone ship) or Success (ground pad)) between the date 2010-06-04 and 2017-03-20, in descending order.\n"
   ]
  },
  {
   "cell_type": "code",
   "execution_count": 123,
   "id": "df3c7b73-31ae-43d3-810b-b89653dbe8f2",
   "metadata": {},
   "outputs": [
    {
     "name": "stdout",
     "output_type": "stream",
     "text": [
      "('No attempt', 10)\n",
      "('Success (drone ship)', 5)\n",
      "('Failure (drone ship)', 5)\n",
      "('Success (ground pad)', 3)\n",
      "('Controlled (ocean)', 3)\n",
      "('Uncontrolled (ocean)', 2)\n",
      "('Failure (parachute)', 2)\n",
      "('Precluded (drone ship)', 1)\n"
     ]
    }
   ],
   "source": [
    "cur.execute(\"\"\"\n",
    "    SELECT \n",
    "        Landing_Outcome,\n",
    "        COUNT(Landing_Outcome) AS outcome_count\n",
    "    FROM SPACEXTABLE\n",
    "    WHERE \n",
    "        DATE BETWEEN '2010-06-04' AND '2017-03-20'\n",
    "    GROUP BY \n",
    "        Landing_Outcome\n",
    "    ORDER BY \n",
    "        outcome_count DESC;\n",
    "            \"\"\")\n",
    "results = cur.fetchall()\n",
    "for row in results:\n",
    "    print(row) "
   ]
  },
  {
   "cell_type": "markdown",
   "id": "acf85b18-21f0-4ff7-a9c9-808370dd874a",
   "metadata": {},
   "source": [
    "### Reference Links\n",
    "\n",
    "* <a href =\"https://cf-courses-data.s3.us.cloud-object-storage.appdomain.cloud/IBMDeveloperSkillsNetwork-DB0201EN-SkillsNetwork/labs/Labs_Coursera_V5/labs/Lab%20-%20String%20Patterns%20-%20Sorting%20-%20Grouping/instructional-labs.md.html?origin=www.coursera.org\">Hands-on Lab : String Patterns, Sorting and Grouping</a>  \n",
    "\n",
    "*  <a  href=\"https://cf-courses-data.s3.us.cloud-object-storage.appdomain.cloud/IBMDeveloperSkillsNetwork-DB0201EN-SkillsNetwork/labs/Labs_Coursera_V5/labs/Lab%20-%20Built-in%20functions%20/Hands-on_Lab__Built-in_Functions.md.html?origin=www.coursera.org\">Hands-on Lab: Built-in functions</a>\n",
    "\n",
    "*  <a  href=\"https://cf-courses-data.s3.us.cloud-object-storage.appdomain.cloud/IBMDeveloperSkillsNetwork-DB0201EN-SkillsNetwork/labs/Labs_Coursera_V5/labs/Lab%20-%20Sub-queries%20and%20Nested%20SELECTs%20/instructional-labs.md.html?origin=www.coursera.org\">Hands-on Lab : Sub-queries and Nested SELECT Statements</a>\n",
    "\n",
    "*   <a href=\"https://cf-courses-data.s3.us.cloud-object-storage.appdomain.cloud/IBMDeveloperSkillsNetwork-DB0201EN-SkillsNetwork/labs/Module%205/DB0201EN-Week3-1-3-SQLmagic.ipynb\">Hands-on Tutorial: Accessing Databases with SQL magic</a>\n",
    "\n",
    "*  <a href= \"https://cf-courses-data.s3.us.cloud-object-storage.appdomain.cloud/IBMDeveloperSkillsNetwork-DB0201EN-SkillsNetwork/labs/Module%205/DB0201EN-Week3-1-4-Analyzing.ipynb\">Hands-on Lab: Analyzing a real World Data Set</a>\n",
    "\n",
    "\n"
   ]
  },
  {
   "cell_type": "markdown",
   "id": "75e66544-48cc-4d7b-a563-2e8a4e9714b7",
   "metadata": {},
   "source": [
    "## Author(s)\n",
    "\n",
    "<h4> Lakshmi Holla </h4>\n"
   ]
  },
  {
   "cell_type": "markdown",
   "id": "9798984a-19bf-40c3-9cd6-0db0878ff72e",
   "metadata": {},
   "source": [
    "## Other Contributors\n",
    "\n",
    "<h4> Rav Ahuja </h4>\n"
   ]
  },
  {
   "cell_type": "markdown",
   "id": "3faefaa5-2332-4df9-84a3-af7aa6db58f1",
   "metadata": {},
   "source": [
    "<!--\n",
    "## Change log\n",
    "| Date | Version | Changed by | Change Description |\n",
    "|------|--------|--------|---------|\n",
    "| 2024-07-10 | 1.1 |Anita Verma | Changed Version|\n",
    "| 2021-07-09 | 0.2 |Lakshmi Holla | Changes made in magic sql|\n",
    "| 2021-05-20 | 0.1 |Lakshmi Holla | Created Initial Version |\n",
    "-->\n"
   ]
  },
  {
   "cell_type": "markdown",
   "id": "a4a9f46a-b4ab-4400-9e5a-d4f94ef77ce1",
   "metadata": {},
   "source": [
    "## <h3 align=\"center\"> © IBM Corporation 2021. All rights reserved. <h3/>\n"
   ]
  }
 ],
 "metadata": {
  "kernelspec": {
   "display_name": "Python 3",
   "language": "python",
   "name": "python3"
  },
  "language_info": {
   "codemirror_mode": {
    "name": "ipython",
    "version": 3
   },
   "file_extension": ".py",
   "mimetype": "text/x-python",
   "name": "python",
   "nbconvert_exporter": "python",
   "pygments_lexer": "ipython3",
   "version": "3.11.10"
  },
  "prev_pub_hash": "a5fa84525a820d08c9ec9c9cccf7d39455745aa2be6c2efdd18931346283d2d9"
 },
 "nbformat": 4,
 "nbformat_minor": 4
}
